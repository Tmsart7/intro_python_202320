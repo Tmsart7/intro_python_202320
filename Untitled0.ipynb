{
  "nbformat": 4,
  "nbformat_minor": 0,
  "metadata": {
    "colab": {
      "provenance": [],
      "authorship_tag": "ABX9TyNxKJ2w4Vl72o9szfnIoSd2",
      "include_colab_link": true
    },
    "kernelspec": {
      "name": "python3",
      "display_name": "Python 3"
    },
    "language_info": {
      "name": "python"
    }
  },
  "cells": [
    {
      "cell_type": "markdown",
      "metadata": {
        "id": "view-in-github",
        "colab_type": "text"
      },
      "source": [
        "<a href=\"https://colab.research.google.com/github/Tmsart7/intro_python_202320/blob/main/Untitled0.ipynb\" target=\"_parent\"><img src=\"https://colab.research.google.com/assets/colab-badge.svg\" alt=\"Open In Colab\"/></a>"
      ]
    },
    {
      "cell_type": "markdown",
      "source": [
        "# Introduccion a Python\n",
        "## Curso de programacion y algoritmia UPB 202320\n",
        "- Nombre : Yeison De Leon y Tomas Arteaga\n",
        "- ID : 000491649 ,  000495362\n",
        "- Email : Yeison.de@upb.edu.co , tomas.arteaga@upb.edu.co\n",
        "\n",
        "Esta es la expresion de la linea recta:\n",
        "$$y : mx + b$$\n",
        "\n",
        "donde $x$ es la posicion"
      ],
      "metadata": {
        "id": "1hM_Gr-DOi-k"
      }
    },
    {
      "cell_type": "code",
      "source": [],
      "metadata": {
        "id": "iHJkd7rpOh5V"
      },
      "execution_count": null,
      "outputs": []
    }
  ]
}