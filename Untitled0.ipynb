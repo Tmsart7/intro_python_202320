{
  "nbformat": 4,
  "nbformat_minor": 0,
  "metadata": {
    "colab": {
      "provenance": [],
      "authorship_tag": "ABX9TyOLw2UFJJhe1ti2EF1Lb3R3",
      "include_colab_link": true
    },
    "kernelspec": {
      "name": "python3",
      "display_name": "Python 3"
    },
    "language_info": {
      "name": "python"
    }
  },
  "cells": [
    {
      "cell_type": "markdown",
      "metadata": {
        "id": "view-in-github",
        "colab_type": "text"
      },
      "source": [
        "<a href=\"https://colab.research.google.com/github/Tmsart7/intro_python_202320/blob/main/Untitled0.ipynb\" target=\"_parent\"><img src=\"https://colab.research.google.com/assets/colab-badge.svg\" alt=\"Open In Colab\"/></a>"
      ]
    },
    {
      "cell_type": "markdown",
      "source": [
        "# Introduccion a Python\n",
        "## Curso de programacion y algoritmia UPB 202320\n",
        "- Nombre : Yeison De Leon y Tomas Arteaga\n",
        "- ID : 000491649 ,  000495362\n",
        "- Email : Yeison.de@upb.edu.co , tomas.arteaga@upb.edu.co\n",
        "\n",
        "Esta es la expresion de la linea recta:\n",
        "$$y : mx + b$$\n",
        "\n",
        "donde $x$ es la posicion"
      ],
      "metadata": {
        "id": "1hM_Gr-DOi-k"
      }
    },
    {
      "cell_type": "code",
      "source": [
        "# comentarios\n",
        "\n",
        "# Mis primeras lineas de codigo\n",
        "name = 'Tomás'\n",
        "print(\"hello,\" , name)\n",
        "\n",
        "\n"
      ],
      "metadata": {
        "colab": {
          "base_uri": "https://localhost:8080/"
        },
        "id": "iHJkd7rpOh5V",
        "outputId": "ab5cb80d-2fdd-4e91-96e9-5369520310b3"
      },
      "execution_count": 11,
      "outputs": [
        {
          "output_type": "stream",
          "name": "stdout",
          "text": [
            "hello, Tomás\n"
          ]
        }
      ]
    },
    {
      "cell_type": "code",
      "source": [
        "firstname = 'Tomás'\n",
        "age = '18'\n",
        "city = 'monteria'\n",
        "food = 'pizza'\n",
        "print(\"hello, my name is\", firstname, 'i have', age, 'years old,','i like the', food, 'and i live in' , city)"
      ],
      "metadata": {
        "colab": {
          "base_uri": "https://localhost:8080/"
        },
        "id": "7tHthF9ZRbkV",
        "outputId": "f095cce8-2802-4b18-e668-9cbd809e2ae1"
      },
      "execution_count": 10,
      "outputs": [
        {
          "output_type": "stream",
          "name": "stdout",
          "text": [
            "hello, my name is Tomás i have 18 years old, i like the pizza and i live in monteria\n"
          ]
        }
      ]
    }
  ]
}