{
  "nbformat": 4,
  "nbformat_minor": 0,
  "metadata": {
    "colab": {
      "provenance": [],
      "authorship_tag": "ABX9TyOYtkqVDXeuKLnhjOCSha2O",
      "include_colab_link": true
    },
    "kernelspec": {
      "name": "python3",
      "display_name": "Python 3"
    },
    "language_info": {
      "name": "python"
    }
  },
  "cells": [
    {
      "cell_type": "markdown",
      "metadata": {
        "id": "view-in-github",
        "colab_type": "text"
      },
      "source": [
        "<a href=\"https://colab.research.google.com/github/Tmsart7/intro_python_202320/blob/main/Untitled0.ipynb\" target=\"_parent\"><img src=\"https://colab.research.google.com/assets/colab-badge.svg\" alt=\"Open In Colab\"/></a>"
      ]
    },
    {
      "cell_type": "markdown",
      "source": [
        "# Introduccion a Python\n",
        "## Curso de programacion y algoritmia UPB 202320\n",
        "- Nombre : Yeison De Leon y Tomas Arteaga\n",
        "- ID : 000491649 ,  000495362\n",
        "- Email : Yeison.de@upb.edu.co , tomas.arteaga@upb.edu.co\n",
        "\n",
        "Esta es la expresion de la linea recta:\n",
        "$$y : mx + b$$\n",
        "\n",
        "donde $x$ es la posicion"
      ],
      "metadata": {
        "id": "1hM_Gr-DOi-k"
      }
    },
    {
      "cell_type": "code",
      "source": [
        "# comentarios\n",
        "\n",
        "# Mis primeras lineas de codigo\n",
        "name = 'Tomás'\n",
        "print(\"hello,\" , name)\n",
        "\n",
        "\n"
      ],
      "metadata": {
        "colab": {
          "base_uri": "https://localhost:8080/"
        },
        "id": "iHJkd7rpOh5V",
        "outputId": "ab5cb80d-2fdd-4e91-96e9-5369520310b3"
      },
      "execution_count": null,
      "outputs": [
        {
          "output_type": "stream",
          "name": "stdout",
          "text": [
            "hello, Tomás\n"
          ]
        }
      ]
    },
    {
      "cell_type": "code",
      "source": [
        "firstname = 'Tomás'\n",
        "age = '18'\n",
        "city = 'monteria'\n",
        "food = 'pizza'\n",
        "print(\"hello, my name is\", firstname, 'i have', age, 'years old,','i like the', food, 'and i live in' , city)"
      ],
      "metadata": {
        "colab": {
          "base_uri": "https://localhost:8080/"
        },
        "id": "7tHthF9ZRbkV",
        "outputId": "f095cce8-2802-4b18-e668-9cbd809e2ae1"
      },
      "execution_count": null,
      "outputs": [
        {
          "output_type": "stream",
          "name": "stdout",
          "text": [
            "hello, my name is Tomás i have 18 years old, i like the pizza and i live in monteria\n"
          ]
        }
      ]
    },
    {
      "cell_type": "code",
      "source": [
        "a = 3\n",
        "b = 4.5\n",
        "c = a + b\n",
        "print(type(a))\n",
        "print(type(b))\n",
        "print(c)\n",
        "c = c * a\n",
        "print(c)\n",
        "c = int(c/b)\n",
        "print(c)\n",
        "d = 0.3\n",
        "c += 0.3\n",
        "print(c)\n",
        "\n",
        "\n"
      ],
      "metadata": {
        "id": "ZUvklAL4bHw7",
        "outputId": "06a0bf10-1bee-47b1-8a9d-2e7b5f010c63",
        "colab": {
          "base_uri": "https://localhost:8080/"
        }
      },
      "execution_count": 8,
      "outputs": [
        {
          "output_type": "stream",
          "name": "stdout",
          "text": [
            "<class 'int'>\n",
            "<class 'float'>\n",
            "7.5\n",
            "22.5\n",
            "5\n",
            "5.3\n"
          ]
        }
      ]
    },
    {
      "cell_type": "code",
      "source": [
        "m = 5\n",
        "b = 2\n",
        "x = 2\n",
        "\n",
        "y = m * x + b\n",
        "print(y)"
      ],
      "metadata": {
        "id": "svBF1T6YbbRJ",
        "outputId": "19e4c231-9dfc-4192-f845-c112a52bd2f8",
        "colab": {
          "base_uri": "https://localhost:8080/"
        }
      },
      "execution_count": 14,
      "outputs": [
        {
          "output_type": "stream",
          "name": "stdout",
          "text": [
            "12\n"
          ]
        }
      ]
    },
    {
      "cell_type": "code",
      "source": [
        "a = 1\n",
        "b = 2\n",
        "c = -8\n",
        "\n",
        "n = (b ** 2 - 4 * a * c) ** (1/2)\n",
        "x_n = (-b - n) / 2 * a\n",
        "x_p = (-b + n) / 2 * a\n",
        "\n",
        "print(x_n)\n",
        "print(x_p)\n",
        "\n",
        "a = -3\n",
        "b = 1\n",
        "c = 10\n",
        "\n",
        "n = (b ** 2 - 4 * a * c) ** (1/2)\n",
        "x_n = (-b - n) / 2 * a\n",
        "x_p = (-b + n) / 2 * a\n",
        "\n",
        "print(x_n)\n",
        "print(x_p)\n",
        "\n",
        "a = 0.1\n",
        "b = -2\n",
        "c = 0.5\n",
        "\n",
        "n = (b ** 2 - 4 * a * c) ** (1/2)\n",
        "x_n = (-b - n) / 2 * a\n",
        "x_p = (-b + n) / 2 * a\n",
        "\n",
        "print(x_n)\n",
        "print(x_p)"
      ],
      "metadata": {
        "id": "b7jZUhkherde",
        "outputId": "4b0bf5b2-1597-4129-c022-6c5545db67e1",
        "colab": {
          "base_uri": "https://localhost:8080/"
        }
      },
      "execution_count": 30,
      "outputs": [
        {
          "output_type": "stream",
          "name": "stdout",
          "text": [
            "-4.0\n",
            "2.0\n",
            "18.0\n",
            "-15.0\n",
            "0.0025320565519103668\n",
            "0.19746794344808963\n"
          ]
        }
      ]
    },
    {
      "cell_type": "code",
      "source": [
        "firstname = 'Tomás'\n",
        "lastname = 'Arteaga'\n",
        "fullname = firstname + ' ' + lastname\n",
        "print(fullname)"
      ],
      "metadata": {
        "id": "6VjWKb-okkvm",
        "outputId": "2ff765ed-de3f-439a-8a3f-ab7a99481c91",
        "colab": {
          "base_uri": "https://localhost:8080/"
        }
      },
      "execution_count": 33,
      "outputs": [
        {
          "output_type": "stream",
          "name": "stdout",
          "text": [
            "Tomás Arteaga\n"
          ]
        }
      ]
    },
    {
      "cell_type": "code",
      "source": [
        "a = 4\n",
        "b = 7\n",
        "print(a == b)\n",
        "print(a != b)\n",
        "print(a > b)\n",
        "print(a < b)\n",
        "print((a == b) and (b + 3 > 5))\n",
        "print((a == b) or (b + 3 > 5))\n",
        "print(not (a == b))"
      ],
      "metadata": {
        "id": "mvg2sHZplUMw",
        "outputId": "c57216f7-9d79-438a-e1be-784a9fcaf7f6",
        "colab": {
          "base_uri": "https://localhost:8080/"
        }
      },
      "execution_count": 37,
      "outputs": [
        {
          "output_type": "stream",
          "name": "stdout",
          "text": [
            "False\n",
            "True\n",
            "False\n",
            "True\n",
            "False\n",
            "True\n",
            "True\n"
          ]
        }
      ]
    },
    {
      "cell_type": "code",
      "source": [],
      "metadata": {
        "id": "8kZ2sZgNmfJK"
      },
      "execution_count": null,
      "outputs": []
    }
  ]
}