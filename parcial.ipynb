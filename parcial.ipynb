{
  "nbformat": 4,
  "nbformat_minor": 0,
  "metadata": {
    "colab": {
      "provenance": [],
      "authorship_tag": "ABX9TyPZbF3tyNl3Uz5yaAvE3kph",
      "include_colab_link": true
    },
    "kernelspec": {
      "name": "python3",
      "display_name": "Python 3"
    },
    "language_info": {
      "name": "python"
    }
  },
  "cells": [
    {
      "cell_type": "markdown",
      "metadata": {
        "id": "view-in-github",
        "colab_type": "text"
      },
      "source": [
        "<a href=\"https://colab.research.google.com/github/Tmsart7/intro_python_202320/blob/main/parcial.ipynb\" target=\"_parent\"><img src=\"https://colab.research.google.com/assets/colab-badge.svg\" alt=\"Open In Colab\"/></a>"
      ]
    },
    {
      "cell_type": "code",
      "execution_count": 11,
      "metadata": {
        "colab": {
          "base_uri": "https://localhost:8080/"
        },
        "id": "Z9J-7YuU-BLq",
        "outputId": "940205a4-baba-4f34-d229-7de8ba5e8c6d"
      },
      "outputs": [
        {
          "output_type": "stream",
          "name": "stdout",
          "text": [
            "Lista de números: [8, 3, 9, 5, 1, 9, 5, 3, 4, 8]\n",
            "Suma de los números impares: 35\n"
          ]
        }
      ],
      "source": [
        "#1\n",
        "\n",
        "import random\n",
        "\n",
        "lista_numeros = [random.randint(1, 10) for num in range(10)]\n",
        "\n",
        "sum_impares = sum(num for num in lista_numeros if num % 2 != 0)\n",
        "\n",
        "print(\"Lista de números:\", lista_numeros)\n",
        "print(\"Suma de los números impares:\", sum_impares)\n"
      ]
    },
    {
      "cell_type": "code",
      "source": [
        "import random\n",
        "\n",
        "num_secreto = random.randint(1, 100)\n",
        "\n",
        "intentos = 0\n",
        "\n",
        "print(\"Adivine el número entre 1 y 100\")\n",
        "\n",
        "while True:\n",
        "\n",
        "        numero_ingresado = int(input(\"introduzca un numero: \"))\n",
        "        intentos += 1\n",
        "\n",
        "        if numero_ingresado == num_secreto:\n",
        "            print('Adivinaste el número secreto en', intentos , 'intentos')\n",
        "            break\n",
        "        elif numero_ingresado < num_secreto:\n",
        "            print(\"El número es mayor. prueba de nuevo\")\n",
        "        else:\n",
        "            print(\"El número es menor. prueba de nuevo\")\n"
      ],
      "metadata": {
        "colab": {
          "base_uri": "https://localhost:8080/"
        },
        "id": "qYm3VzAoE1ZI",
        "outputId": "824c2aa4-f7cc-4ab5-a702-be9329d59618"
      },
      "execution_count": 9,
      "outputs": [
        {
          "output_type": "stream",
          "name": "stdout",
          "text": [
            "Adivine el número entre 1 y 100\n",
            "introduzca un numero: 50\n",
            "El número es mayor. prueba de nuevo\n",
            "introduzca un numero: 60\n",
            "El número es mayor. prueba de nuevo\n",
            "introduzca un numero: 70\n",
            "El número es mayor. prueba de nuevo\n",
            "introduzca un numero: 80\n",
            "El número es mayor. prueba de nuevo\n",
            "introduzca un numero: 95\n",
            "El número es menor. prueba de nuevo\n",
            "introduzca un numero: 94\n",
            "El número es menor. prueba de nuevo\n",
            "introduzca un numero: 93\n",
            "El número es menor. prueba de nuevo\n",
            "introduzca un numero: 92\n",
            "El número es menor. prueba de nuevo\n",
            "introduzca un numero: 91\n",
            "El número es menor. prueba de nuevo\n",
            "introduzca un numero: 90\n",
            "El número es menor. prueba de nuevo\n",
            "introduzca un numero: 89\n",
            "El número es menor. prueba de nuevo\n",
            "introduzca un numero: 75\n",
            "El número es mayor. prueba de nuevo\n",
            "introduzca un numero: 80\n",
            "El número es mayor. prueba de nuevo\n",
            "introduzca un numero: 82\n",
            "Adivinaste el número secreto en 14 intentos\n"
          ]
        }
      ]
    }
  ]
}